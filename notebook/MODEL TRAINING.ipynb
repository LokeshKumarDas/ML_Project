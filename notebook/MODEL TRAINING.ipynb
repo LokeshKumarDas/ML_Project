{
 "cells": [
  {
   "cell_type": "markdown",
   "metadata": {},
   "source": [
    "# STUDENT PERFORMANCE INDICATOR"
   ]
  },
  {
   "cell_type": "markdown",
   "metadata": {},
   "source": [
    "## Training And Testing Model"
   ]
  },
  {
   "cell_type": "markdown",
   "metadata": {},
   "source": [
    "### Importing Libraries"
   ]
  },
  {
   "cell_type": "code",
   "execution_count": 78,
   "metadata": {},
   "outputs": [],
   "source": [
    "import numpy as np \n",
    "import pandas as pd \n",
    "import matplotlib.pyplot as plt \n",
    "import seaborn as sns\n"
   ]
  },
  {
   "cell_type": "code",
   "execution_count": 79,
   "metadata": {},
   "outputs": [],
   "source": [
    "from sklearn.preprocessing import OneHotEncoder, StandardScaler\n",
    "from sklearn.compose import ColumnTransformer\n",
    "from sklearn.model_selection import train_test_split"
   ]
  },
  {
   "cell_type": "code",
   "execution_count": 80,
   "metadata": {},
   "outputs": [],
   "source": [
    "from sklearn.linear_model import LinearRegression, Ridge, Lasso \n",
    "from sklearn.neighbors import KNeighborsRegressor\n",
    "from sklearn.svm import SVR\n",
    "from sklearn.tree import DecisionTreeRegressor\n",
    "from sklearn.ensemble import RandomForestRegressor, AdaBoostRegressor\n",
    "from xgboost import XGBRegressor"
   ]
  },
  {
   "cell_type": "code",
   "execution_count": 81,
   "metadata": {},
   "outputs": [],
   "source": [
    "from sklearn.model_selection import RandomizedSearchCV\n",
    "from sklearn.metrics import r2_score, mean_absolute_error, mean_squared_error"
   ]
  },
  {
   "cell_type": "code",
   "execution_count": 82,
   "metadata": {},
   "outputs": [],
   "source": [
    "import warnings "
   ]
  },
  {
   "cell_type": "markdown",
   "metadata": {},
   "source": [
    "### Loading Data"
   ]
  },
  {
   "cell_type": "code",
   "execution_count": 83,
   "metadata": {},
   "outputs": [],
   "source": [
    "df = pd.read_csv(r'C:\\Users\\HP\\Desktop\\Project Deployment\\notebook\\data\\raw.csv')"
   ]
  },
  {
   "cell_type": "code",
   "execution_count": 84,
   "metadata": {},
   "outputs": [
    {
     "data": {
      "text/html": [
       "<div>\n",
       "<style scoped>\n",
       "    .dataframe tbody tr th:only-of-type {\n",
       "        vertical-align: middle;\n",
       "    }\n",
       "\n",
       "    .dataframe tbody tr th {\n",
       "        vertical-align: top;\n",
       "    }\n",
       "\n",
       "    .dataframe thead th {\n",
       "        text-align: right;\n",
       "    }\n",
       "</style>\n",
       "<table border=\"1\" class=\"dataframe\">\n",
       "  <thead>\n",
       "    <tr style=\"text-align: right;\">\n",
       "      <th></th>\n",
       "      <th>gender</th>\n",
       "      <th>race/ethnicity</th>\n",
       "      <th>parental level of education</th>\n",
       "      <th>lunch</th>\n",
       "      <th>test preparation course</th>\n",
       "      <th>math score</th>\n",
       "      <th>reading score</th>\n",
       "      <th>writing score</th>\n",
       "    </tr>\n",
       "  </thead>\n",
       "  <tbody>\n",
       "    <tr>\n",
       "      <th>532</th>\n",
       "      <td>male</td>\n",
       "      <td>group E</td>\n",
       "      <td>associate's degree</td>\n",
       "      <td>standard</td>\n",
       "      <td>completed</td>\n",
       "      <td>62</td>\n",
       "      <td>61</td>\n",
       "      <td>58</td>\n",
       "    </tr>\n",
       "    <tr>\n",
       "      <th>586</th>\n",
       "      <td>female</td>\n",
       "      <td>group A</td>\n",
       "      <td>high school</td>\n",
       "      <td>standard</td>\n",
       "      <td>none</td>\n",
       "      <td>55</td>\n",
       "      <td>73</td>\n",
       "      <td>73</td>\n",
       "    </tr>\n",
       "    <tr>\n",
       "      <th>773</th>\n",
       "      <td>female</td>\n",
       "      <td>group C</td>\n",
       "      <td>bachelor's degree</td>\n",
       "      <td>free/reduced</td>\n",
       "      <td>none</td>\n",
       "      <td>62</td>\n",
       "      <td>78</td>\n",
       "      <td>79</td>\n",
       "    </tr>\n",
       "    <tr>\n",
       "      <th>938</th>\n",
       "      <td>male</td>\n",
       "      <td>group D</td>\n",
       "      <td>some college</td>\n",
       "      <td>standard</td>\n",
       "      <td>completed</td>\n",
       "      <td>85</td>\n",
       "      <td>81</td>\n",
       "      <td>85</td>\n",
       "    </tr>\n",
       "    <tr>\n",
       "      <th>512</th>\n",
       "      <td>male</td>\n",
       "      <td>group D</td>\n",
       "      <td>some high school</td>\n",
       "      <td>free/reduced</td>\n",
       "      <td>none</td>\n",
       "      <td>62</td>\n",
       "      <td>49</td>\n",
       "      <td>52</td>\n",
       "    </tr>\n",
       "  </tbody>\n",
       "</table>\n",
       "</div>"
      ],
      "text/plain": [
       "     gender race/ethnicity parental level of education         lunch  \\\n",
       "532    male        group E          associate's degree      standard   \n",
       "586  female        group A                 high school      standard   \n",
       "773  female        group C           bachelor's degree  free/reduced   \n",
       "938    male        group D                some college      standard   \n",
       "512    male        group D            some high school  free/reduced   \n",
       "\n",
       "    test preparation course  math score  reading score  writing score  \n",
       "532               completed          62             61             58  \n",
       "586                    none          55             73             73  \n",
       "773                    none          62             78             79  \n",
       "938               completed          85             81             85  \n",
       "512                    none          62             49             52  "
      ]
     },
     "execution_count": 84,
     "metadata": {},
     "output_type": "execute_result"
    }
   ],
   "source": [
    "df.sample(5)"
   ]
  },
  {
   "cell_type": "markdown",
   "metadata": {},
   "source": [
    "### Making Training and Test Features"
   ]
  },
  {
   "cell_type": "markdown",
   "metadata": {},
   "source": [
    "Input Features"
   ]
  },
  {
   "cell_type": "code",
   "execution_count": 85,
   "metadata": {},
   "outputs": [],
   "source": [
    "X = df.drop(columns='math score', axis=1)"
   ]
  },
  {
   "cell_type": "code",
   "execution_count": 86,
   "metadata": {},
   "outputs": [
    {
     "data": {
      "text/html": [
       "<div>\n",
       "<style scoped>\n",
       "    .dataframe tbody tr th:only-of-type {\n",
       "        vertical-align: middle;\n",
       "    }\n",
       "\n",
       "    .dataframe tbody tr th {\n",
       "        vertical-align: top;\n",
       "    }\n",
       "\n",
       "    .dataframe thead th {\n",
       "        text-align: right;\n",
       "    }\n",
       "</style>\n",
       "<table border=\"1\" class=\"dataframe\">\n",
       "  <thead>\n",
       "    <tr style=\"text-align: right;\">\n",
       "      <th></th>\n",
       "      <th>gender</th>\n",
       "      <th>race/ethnicity</th>\n",
       "      <th>parental level of education</th>\n",
       "      <th>lunch</th>\n",
       "      <th>test preparation course</th>\n",
       "      <th>reading score</th>\n",
       "      <th>writing score</th>\n",
       "    </tr>\n",
       "  </thead>\n",
       "  <tbody>\n",
       "    <tr>\n",
       "      <th>297</th>\n",
       "      <td>male</td>\n",
       "      <td>group E</td>\n",
       "      <td>associate's degree</td>\n",
       "      <td>standard</td>\n",
       "      <td>completed</td>\n",
       "      <td>74</td>\n",
       "      <td>68</td>\n",
       "    </tr>\n",
       "    <tr>\n",
       "      <th>738</th>\n",
       "      <td>male</td>\n",
       "      <td>group D</td>\n",
       "      <td>associate's degree</td>\n",
       "      <td>standard</td>\n",
       "      <td>none</td>\n",
       "      <td>71</td>\n",
       "      <td>73</td>\n",
       "    </tr>\n",
       "    <tr>\n",
       "      <th>788</th>\n",
       "      <td>male</td>\n",
       "      <td>group C</td>\n",
       "      <td>associate's degree</td>\n",
       "      <td>free/reduced</td>\n",
       "      <td>none</td>\n",
       "      <td>65</td>\n",
       "      <td>61</td>\n",
       "    </tr>\n",
       "    <tr>\n",
       "      <th>915</th>\n",
       "      <td>female</td>\n",
       "      <td>group E</td>\n",
       "      <td>some college</td>\n",
       "      <td>standard</td>\n",
       "      <td>none</td>\n",
       "      <td>70</td>\n",
       "      <td>66</td>\n",
       "    </tr>\n",
       "    <tr>\n",
       "      <th>354</th>\n",
       "      <td>female</td>\n",
       "      <td>group C</td>\n",
       "      <td>some college</td>\n",
       "      <td>standard</td>\n",
       "      <td>none</td>\n",
       "      <td>71</td>\n",
       "      <td>70</td>\n",
       "    </tr>\n",
       "  </tbody>\n",
       "</table>\n",
       "</div>"
      ],
      "text/plain": [
       "     gender race/ethnicity parental level of education         lunch  \\\n",
       "297    male        group E          associate's degree      standard   \n",
       "738    male        group D          associate's degree      standard   \n",
       "788    male        group C          associate's degree  free/reduced   \n",
       "915  female        group E                some college      standard   \n",
       "354  female        group C                some college      standard   \n",
       "\n",
       "    test preparation course  reading score  writing score  \n",
       "297               completed             74             68  \n",
       "738                    none             71             73  \n",
       "788                    none             65             61  \n",
       "915                    none             70             66  \n",
       "354                    none             71             70  "
      ]
     },
     "execution_count": 86,
     "metadata": {},
     "output_type": "execute_result"
    }
   ],
   "source": [
    "X.sample(5)"
   ]
  },
  {
   "cell_type": "code",
   "execution_count": 87,
   "metadata": {},
   "outputs": [],
   "source": [
    "num_features = X.select_dtypes(exclude='object').columns\n",
    "cat_features = X.select_dtypes(include='object').columns\n",
    "\n",
    "numeric_transformer = StandardScaler() \n",
    "ohe_transformer = OneHotEncoder()\n",
    "\n",
    "preprocessor = ColumnTransformer(\n",
    "    [\n",
    "        ('OneHotEncoder', ohe_transformer, cat_features),\n",
    "        ('StandardScaler', numeric_transformer, num_features),\n",
    "    ]\n",
    ")"
   ]
  },
  {
   "cell_type": "code",
   "execution_count": 105,
   "metadata": {},
   "outputs": [
    {
     "data": {
      "text/plain": [
       "Index(['gender', 'race/ethnicity', 'parental level of education', 'lunch',\n",
       "       'test preparation course'],\n",
       "      dtype='object')"
      ]
     },
     "execution_count": 105,
     "metadata": {},
     "output_type": "execute_result"
    }
   ],
   "source": [
    "cat_features"
   ]
  },
  {
   "cell_type": "code",
   "execution_count": null,
   "metadata": {},
   "outputs": [],
   "source": []
  },
  {
   "cell_type": "code",
   "execution_count": 88,
   "metadata": {},
   "outputs": [],
   "source": [
    "X = preprocessor.fit_transform(X)\n"
   ]
  },
  {
   "cell_type": "code",
   "execution_count": 89,
   "metadata": {},
   "outputs": [
    {
     "data": {
      "text/plain": [
       "(1000, 19)"
      ]
     },
     "execution_count": 89,
     "metadata": {},
     "output_type": "execute_result"
    }
   ],
   "source": [
    "X.shape"
   ]
  },
  {
   "cell_type": "markdown",
   "metadata": {},
   "source": [
    "Output Features"
   ]
  },
  {
   "cell_type": "code",
   "execution_count": 90,
   "metadata": {},
   "outputs": [],
   "source": [
    "y = df['math score']"
   ]
  },
  {
   "cell_type": "code",
   "execution_count": 91,
   "metadata": {},
   "outputs": [
    {
     "data": {
      "text/plain": [
       "0    72\n",
       "1    69\n",
       "2    90\n",
       "3    47\n",
       "4    76\n",
       "Name: math score, dtype: int64"
      ]
     },
     "execution_count": 91,
     "metadata": {},
     "output_type": "execute_result"
    }
   ],
   "source": [
    "y[:5]"
   ]
  },
  {
   "cell_type": "markdown",
   "metadata": {},
   "source": [
    "Train Test Split"
   ]
  },
  {
   "cell_type": "code",
   "execution_count": 92,
   "metadata": {},
   "outputs": [],
   "source": [
    "X_train, X_test, y_train, y_test = train_test_split(X, y, test_size=0.2, random_state=42)"
   ]
  },
  {
   "cell_type": "code",
   "execution_count": 93,
   "metadata": {},
   "outputs": [
    {
     "data": {
      "text/plain": [
       "((800, 19), (200, 19))"
      ]
     },
     "execution_count": 93,
     "metadata": {},
     "output_type": "execute_result"
    }
   ],
   "source": [
    "X_train.shape, X_test.shape"
   ]
  },
  {
   "cell_type": "markdown",
   "metadata": {},
   "source": [
    "### Training Model"
   ]
  },
  {
   "cell_type": "markdown",
   "metadata": {},
   "source": [
    "Creating Function to evaluate model"
   ]
  },
  {
   "cell_type": "code",
   "execution_count": 100,
   "metadata": {},
   "outputs": [],
   "source": [
    "def evaluate_model(y_true, y_predicted):\n",
    "    \n",
    "    mae = mean_absolute_error(y_true, y_predicted)\n",
    "    mse = mean_squared_error(y_true, y_predicted)\n",
    "    rmse = np.sqrt(mse)\n",
    "    r2score = r2_score(y_true, y_predicted)\n",
    "    \n",
    "    return mae, rmse, r2score\n",
    "    "
   ]
  },
  {
   "cell_type": "markdown",
   "metadata": {},
   "source": [
    "Training model and Evaluation"
   ]
  },
  {
   "cell_type": "code",
   "execution_count": 95,
   "metadata": {},
   "outputs": [],
   "source": [
    "models = {\n",
    "    'LinearRegression': LinearRegression(),\n",
    "    'Lasso' : Lasso(),\n",
    "    'Ridge': Ridge(),\n",
    "    'K-Neighbours Regressor' : KNeighborsRegressor(),\n",
    "    'Decision Tree' : DecisionTreeRegressor(),\n",
    "    'Random Forest Regressor' : RandomForestRegressor(),\n",
    "    'Ada-Boost Regressor' : AdaBoostRegressor() ,\n",
    "    'XGBRegressor' : XGBRegressor()\n",
    "}"
   ]
  },
  {
   "cell_type": "code",
   "execution_count": 101,
   "metadata": {},
   "outputs": [
    {
     "name": "stdout",
     "output_type": "stream",
     "text": [
      "********************************************\n",
      "Model Name : LinearRegression --->\n",
      "-----------------------------------\n",
      "Training .......\n",
      "- Mean Absolute Error : 4.271484375\n",
      "- Mean Square Error   : 5.329287354885032\n",
      "- R2-Score : 0.874022530822051\n",
      "-----------------------------------\n",
      "Testing .......\n",
      "- Mean Absolute Error : 4.2221875\n",
      "- Mean Square Error   : 5.425185408698029\n",
      "- R2-Score : 0.8790464771743793\n",
      "********************************************\n",
      "********************************************\n",
      "Model Name : Lasso --->\n",
      "-----------------------------------\n",
      "Training .......\n",
      "- Mean Absolute Error : 5.206302661246526\n",
      "- Mean Square Error   : 6.593815587795565\n",
      "- R2-Score : 0.8071462015863458\n",
      "-----------------------------------\n",
      "Testing .......\n",
      "- Mean Absolute Error : 5.157881810347763\n",
      "- Mean Square Error   : 6.519694535667419\n",
      "- R2-Score : 0.8253197323627853\n",
      "********************************************\n",
      "********************************************\n",
      "Model Name : Ridge --->\n",
      "-----------------------------------\n",
      "Training .......\n",
      "- Mean Absolute Error : 4.264987823725981\n",
      "- Mean Square Error   : 5.323324922741654\n",
      "- R2-Score : 0.8743042615212909\n",
      "-----------------------------------\n",
      "Testing .......\n",
      "- Mean Absolute Error : 4.21110068801426\n",
      "- Mean Square Error   : 5.390387016935638\n",
      "- R2-Score : 0.8805931485028738\n",
      "********************************************\n",
      "********************************************\n",
      "Model Name : K-Neighbours Regressor --->\n",
      "-----------------------------------\n",
      "Training .......\n",
      "- Mean Absolute Error : 4.51675\n",
      "- Mean Square Error   : 5.707884897227694\n",
      "- R2-Score : 0.8554876322327585\n",
      "-----------------------------------\n",
      "Testing .......\n",
      "- Mean Absolute Error : 5.621\n",
      "- Mean Square Error   : 7.253040741647602\n",
      "- R2-Score : 0.7838129945787431\n",
      "********************************************\n",
      "********************************************\n",
      "Model Name : Decision Tree --->\n",
      "-----------------------------------\n",
      "Training .......\n",
      "- Mean Absolute Error : 0.01875\n",
      "- Mean Square Error   : 0.2795084971874737\n",
      "- R2-Score : 0.9996534669718089\n",
      "-----------------------------------\n",
      "Testing .......\n",
      "- Mean Absolute Error : 6.365\n",
      "- Mean Square Error   : 8.024649525057153\n",
      "- R2-Score : 0.7353685238334764\n",
      "********************************************\n",
      "********************************************\n",
      "Model Name : Random Forest Regressor --->\n",
      "-----------------------------------\n",
      "Training .......\n",
      "- Mean Absolute Error : 1.8197708333333333\n",
      "- Mean Square Error   : 2.278601438900869\n",
      "- R2-Score : 0.9769701378759199\n",
      "-----------------------------------\n",
      "Testing .......\n",
      "- Mean Absolute Error : 4.636275\n",
      "- Mean Square Error   : 5.995500114669334\n",
      "- R2-Score : 0.8522796992788644\n",
      "********************************************\n",
      "********************************************\n",
      "Model Name : Ada-Boost Regressor --->\n",
      "-----------------------------------\n",
      "Training .......\n",
      "- Mean Absolute Error : 4.738963700914887\n",
      "- Mean Square Error   : 5.789638004231167\n",
      "- R2-Score : 0.8513183321577138\n",
      "-----------------------------------\n",
      "Testing .......\n",
      "- Mean Absolute Error : 4.718691125926552\n",
      "- Mean Square Error   : 6.067334341988523\n",
      "- R2-Score : 0.8487187142782509\n",
      "********************************************\n",
      "********************************************\n",
      "Model Name : XGBRegressor --->\n",
      "-----------------------------------\n",
      "Training .......\n",
      "- Mean Absolute Error : 0.6874666035175323\n",
      "- Mean Square Error   : 1.0072816866027385\n",
      "- R2-Score : 0.9954995512962341\n",
      "-----------------------------------\n",
      "Testing .......\n",
      "- Mean Absolute Error : 5.057730598449707\n",
      "- Mean Square Error   : 6.4733073671713335\n",
      "- R2-Score : 0.8277965784072876\n",
      "********************************************\n"
     ]
    }
   ],
   "source": [
    "model_list = []\n",
    "r2_list = []\n",
    "\n",
    "for i in range(len(list(models))):\n",
    "    model = list(models.values())[i]\n",
    "    model.fit(X_train, y_train)\n",
    "    \n",
    "    y_train_pred = model.predict(X_train)\n",
    "    y_test_pred = model.predict(X_test)\n",
    "    \n",
    "    mae_train, rmse_train, r2score_train = evaluate_model(y_train, y_train_pred)\n",
    "    mae_test, rmse_test, r2score_test = evaluate_model(y_test, y_test_pred)\n",
    "    \n",
    "    print('********************************************')\n",
    "    print(f'Model Name : {list(models.keys())[i]} --->')\n",
    "    \n",
    "    model_list.append(list(models.keys())[i])\n",
    "    r2_list.append(r2score_test)\n",
    "    \n",
    "    print('-----------------------------------')\n",
    "    print('Training .......')\n",
    "    print(f'- Mean Absolute Error : {mae_train}')\n",
    "    print(f'- Mean Square Error   : {rmse_train}')\n",
    "    print(f'- R2-Score : {r2score_train}')\n",
    "    print('-----------------------------------')\n",
    "    print('Testing .......')\n",
    "    print(f'- Mean Absolute Error : {mae_test}')\n",
    "    print(f'- Mean Square Error   : {rmse_test}')\n",
    "    print(f'- R2-Score : {r2score_test}')\n",
    "    print('********************************************')\n",
    "    "
   ]
  },
  {
   "cell_type": "markdown",
   "metadata": {},
   "source": [
    "Results"
   ]
  },
  {
   "cell_type": "code",
   "execution_count": 103,
   "metadata": {},
   "outputs": [
    {
     "data": {
      "text/html": [
       "<div>\n",
       "<style scoped>\n",
       "    .dataframe tbody tr th:only-of-type {\n",
       "        vertical-align: middle;\n",
       "    }\n",
       "\n",
       "    .dataframe tbody tr th {\n",
       "        vertical-align: top;\n",
       "    }\n",
       "\n",
       "    .dataframe thead th {\n",
       "        text-align: right;\n",
       "    }\n",
       "</style>\n",
       "<table border=\"1\" class=\"dataframe\">\n",
       "  <thead>\n",
       "    <tr style=\"text-align: right;\">\n",
       "      <th></th>\n",
       "      <th>Model Name</th>\n",
       "      <th>R2 Score</th>\n",
       "    </tr>\n",
       "  </thead>\n",
       "  <tbody>\n",
       "    <tr>\n",
       "      <th>0</th>\n",
       "      <td>LinearRegression</td>\n",
       "      <td>0.879046</td>\n",
       "    </tr>\n",
       "    <tr>\n",
       "      <th>1</th>\n",
       "      <td>Lasso</td>\n",
       "      <td>0.825320</td>\n",
       "    </tr>\n",
       "    <tr>\n",
       "      <th>2</th>\n",
       "      <td>Ridge</td>\n",
       "      <td>0.880593</td>\n",
       "    </tr>\n",
       "    <tr>\n",
       "      <th>3</th>\n",
       "      <td>K-Neighbours Regressor</td>\n",
       "      <td>0.783813</td>\n",
       "    </tr>\n",
       "    <tr>\n",
       "      <th>4</th>\n",
       "      <td>Decision Tree</td>\n",
       "      <td>0.735369</td>\n",
       "    </tr>\n",
       "    <tr>\n",
       "      <th>5</th>\n",
       "      <td>Random Forest Regressor</td>\n",
       "      <td>0.852280</td>\n",
       "    </tr>\n",
       "    <tr>\n",
       "      <th>6</th>\n",
       "      <td>Ada-Boost Regressor</td>\n",
       "      <td>0.848719</td>\n",
       "    </tr>\n",
       "    <tr>\n",
       "      <th>7</th>\n",
       "      <td>XGBRegressor</td>\n",
       "      <td>0.827797</td>\n",
       "    </tr>\n",
       "  </tbody>\n",
       "</table>\n",
       "</div>"
      ],
      "text/plain": [
       "                Model Name  R2 Score\n",
       "0         LinearRegression  0.879046\n",
       "1                    Lasso  0.825320\n",
       "2                    Ridge  0.880593\n",
       "3   K-Neighbours Regressor  0.783813\n",
       "4            Decision Tree  0.735369\n",
       "5  Random Forest Regressor  0.852280\n",
       "6      Ada-Boost Regressor  0.848719\n",
       "7             XGBRegressor  0.827797"
      ]
     },
     "execution_count": 103,
     "metadata": {},
     "output_type": "execute_result"
    }
   ],
   "source": [
    "pd.DataFrame(\n",
    "    list(zip(model_list, r2_list)), \n",
    "    columns = ['Model Name', 'R2 Score']\n",
    "    )"
   ]
  }
 ],
 "metadata": {
  "kernelspec": {
   "display_name": "venv",
   "language": "python",
   "name": "python3"
  },
  "language_info": {
   "codemirror_mode": {
    "name": "ipython",
    "version": 3
   },
   "file_extension": ".py",
   "mimetype": "text/x-python",
   "name": "python",
   "nbconvert_exporter": "python",
   "pygments_lexer": "ipython3",
   "version": "3.11.0"
  }
 },
 "nbformat": 4,
 "nbformat_minor": 2
}
